{
 "cells": [
  {
   "cell_type": "raw",
   "metadata": {},
   "source": [
    "###Given a sequence of n values x1, x2, ..., xn and a window size k>0, the k-th moving\n",
    "average of the given sequence is defined as follows:\n",
    "The moving average sequence has n-k+1 elements as shown below.\n",
    "The moving averages with k=4 of a ten-value sequence (n=10) is shown below\n",
    "i 1 2 3 4 5 6 7 8 9 10\n",
    "===== == == == == == == == == == ==\n",
    "Input 10 20 30 40 50 60 70 80 90 100\n",
    "y1 25 = (10+20+30+40)/4\n",
    "y2 35 = (20+30+40+50)/4\n",
    "y3 45 = (30+40+50+60)/4\n",
    "y4 55 = (40+50+60+70)/4\n",
    "y5 65 = (50+60+70+80)/4\n",
    "y6 75 = (60+70+80+90)/4\n",
    "y7 85 = (70+80+90+100)/4\n",
    "\n",
    "Thus, the moving average sequence has n-k+1=10-4+1=7 values.\n",
    "\n",
    "Test it over [3, 5, 7, 2, 8, 10, 11, 65, 72, 81, 99, 100, 150] and window of 3."
   ]
  },
  {
   "cell_type": "code",
   "execution_count": 2,
   "metadata": {},
   "outputs": [],
   "source": [
    "import numpy as np"
   ]
  },
  {
   "cell_type": "code",
   "execution_count": 6,
   "metadata": {},
   "outputs": [
    {
     "name": "stdout",
     "output_type": "stream",
     "text": [
      "Y1 = \t5.0 \n",
      "Y2 = \t4.666666666666667 \n",
      "Y3 = \t5.666666666666667 \n",
      "Y4 = \t6.666666666666667 \n",
      "Y5 = \t9.666666666666666 \n",
      "Y6 = \t28.666666666666668 \n",
      "Y7 = \t49.333333333333336 \n",
      "Y8 = \t72.66666666666667 \n",
      "Y9 = \t84.0 \n",
      "Y10 = \t93.33333333333333 \n",
      "Y11 = \t116.33333333333333 \n"
     ]
    }
   ],
   "source": [
    "\n",
    "l = input(\"Enter the input values: \")\n",
    "windowSize = 3\n",
    "arr = np.array(l.split(\",\"),dtype=int)\n",
    "for i in  range(len(arr)) :\n",
    "    if len(arr[i:i+windowSize]) == windowSize:\n",
    "        #print(\"Y{} \\t{} = \\t({})/{} \".format(i+1,arr[i:i+windowSize].mean(),arr[i:i+windowSize],len(arr[i:i+windowSize])))\n",
    "        print(\"Y{} = \\t{} \".format(i+1,arr[i:i+windowSize].mean()))"
   ]
  },
  {
   "cell_type": "code",
   "execution_count": null,
   "metadata": {},
   "outputs": [],
   "source": []
  }
 ],
 "metadata": {
  "kernelspec": {
   "display_name": "Python 3",
   "language": "python",
   "name": "python3"
  },
  "language_info": {
   "codemirror_mode": {
    "name": "ipython",
    "version": 3
   },
   "file_extension": ".py",
   "mimetype": "text/x-python",
   "name": "python",
   "nbconvert_exporter": "python",
   "pygments_lexer": "ipython3",
   "version": "3.6.4"
  }
 },
 "nbformat": 4,
 "nbformat_minor": 2
}
